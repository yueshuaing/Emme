{
 "cells": [
  {
   "cell_type": "code",
   "execution_count": 20,
   "metadata": {},
   "outputs": [
    {
     "name": "stdout",
     "output_type": "stream",
     "text": [
      "['inode', 'jnode', 'len', 'lan', 'vdf', '@vadt', '@avhov', '@tkveh', '@cvadt', '@evadt', '@vht', '@delay', '@vmt', '@cvmt', '@pthr', '@avauv', '@evmt', '@adel', '@tdel', '@tqdel', '@tvmt', '@tvht', 'result']\n"
     ]
    }
   ],
   "source": [
    "#put rows data from a csv file into a list\n",
    "\n",
    "import csv\n",
    "\n",
    "results=[]\n",
    "\n",
    "with open(r'C:\\Users\\USYS671257\\Desktop\\test.csv') as inputfile:\n",
    "    for row in csv.reader(inputfile):\n",
    "        results.append(row)\n",
    "        \n",
    "print (results[0])"
   ]
  },
  {
   "cell_type": "code",
   "execution_count": 21,
   "metadata": {},
   "outputs": [
    {
     "name": "stdout",
     "output_type": "stream",
     "text": [
      "['@vadt', '@avhov', '@tkveh', '@cvadt', '@evadt', '@vht', '@delay', '@vmt', '@cvmt', '@pthr', '@avauv', '@evmt', '@adel', '@tdel', '@tqdel', '@tvmt', '@tvht', 'result']\n"
     ]
    }
   ],
   "source": [
    "# keep only extra attributes(@xxx) in the list\n",
    "\n",
    "del results[0][0:5]\n",
    "\n",
    "print (results[0])\n",
    "\n",
    "att_list = results[0]"
   ]
  },
  {
   "cell_type": "code",
   "execution_count": 22,
   "metadata": {},
   "outputs": [
    {
     "name": "stdout",
     "output_type": "stream",
     "text": [
      "['@vadt', '@avhov', '@tkveh', '@cvadt', '@evadt', '@vht', '@delay', '@vmt', '@cvmt', '@pthr', '@avauv', '@evmt', '@adel', '@tdel', '@tqdel', '@tvmt', '@tvht', 'result']\n"
     ]
    }
   ],
   "source": [
    "print (att_list)"
   ]
  },
  {
   "cell_type": "code",
   "execution_count": 1,
   "metadata": {
    "collapsed": true,
    "show_input": true
   },
   "outputs": [],
   "source": [
    "_m = inro.modeller \n",
    "NAMESPACE = \"inro.emme.data.extra_attribute.create_extra_attribute\"\n",
    "create_extra = _m.Modeller().tool(NAMESPACE)\n",
    "\n",
    "att_list = [\"@vadt\",\"@avhov\",\"@tkveh\",\"@cvadt\",\"@evadt\",\"@vht\",\"@delay\",\"@vmt\",\"@cvmt\",\"@pthr\",\"@avauv\",\"@evmt\",\"@adel\",\"@tdel\",\"@tqdel\",\"@tvmt\",\"@tvht\"]\n",
    "\n",
    "for index in range(len(att_list)):\n",
    "    new_att = create_extra(extra_attribute_type=\"LINK\",\n",
    "                       extra_attribute_name=att_list[index],\n",
    "                       extra_attribute_description=\"\",\n",
    "                       overwrite=True) \n"
   ]
  }
 ],
 "metadata": {
  "kernelspec": {
   "display_name": "Python 3",
   "language": "python",
   "name": "python3"
  },
  "language_info": {
   "codemirror_mode": {
    "name": "ipython",
    "version": 3
   },
   "file_extension": ".py",
   "mimetype": "text/x-python",
   "name": "python",
   "nbconvert_exporter": "python",
   "pygments_lexer": "ipython3",
   "version": "3.7.1"
  }
 },
 "nbformat": 4,
 "nbformat_minor": 1
}
